{
  "nbformat": 4,
  "nbformat_minor": 0,
  "metadata": {
    "colab": {
      "provenance": []
    },
    "kernelspec": {
      "name": "python3",
      "display_name": "Python 3"
    },
    "language_info": {
      "name": "python"
    }
  },
  "cells": [
    {
      "cell_type": "code",
      "execution_count": null,
      "metadata": {
        "colab": {
          "base_uri": "https://localhost:8080/"
        },
        "id": "p7davckQZcRT",
        "outputId": "a993ad4c-c20d-4266-cb21-901405338adc"
      },
      "outputs": [
        {
          "output_type": "stream",
          "name": "stdout",
          "text": [
            "Original Text: WE Are In CCN Lab\n",
            "Encrypted Text: b'\\xf2\\xed\\xfc]>\\xd4\\xb5\\x01F\\x8c\\x08\\xc7\\xcc\\x07yJ\\x16'\n",
            "Decrypted Text: WE Are In CCN Lab\n"
          ]
        }
      ],
      "source": [
        "def ksa(key):\n",
        "    key_length = len(key)\n",
        "    S = list(range(256))\n",
        "    j = 0\n",
        "    for i in range(256):\n",
        "        j = (j + S[i] + key[i % key_length]) % 256\n",
        "        S[i], S[j] = S[j], S[i]  # Swap S[i] and S[j]\n",
        "    return S\n",
        "\n",
        "def prga(S):\n",
        "    i = j = 0\n",
        "    while True:\n",
        "        i = (i + 1) % 256\n",
        "        j = (j + S[i]) % 256\n",
        "        S[i], S[j] = S[j], S[i]  # Swap S[i] and S[j]\n",
        "        K = S[(S[i] + S[j]) % 256]\n",
        "        yield K\n",
        "\n",
        "def rc4_encrypt(data, key):\n",
        "    S = ksa(key)\n",
        "    keystream = prga(S)\n",
        "    encrypted = bytearray()\n",
        "    for byte in data:\n",
        "        encrypted.append(byte ^ next(keystream))\n",
        "    return bytes(encrypted)\n",
        "\n",
        "def rc4_decrypt(data, key):\n",
        "    # RC4 encryption and decryption use the same function\n",
        "    return rc4_encrypt(data, key)\n",
        "\n",
        "# Example usage for text encryption and decryption:\n",
        "plaintext = \"WE Are In CCN Lab\"\n",
        "key = b\"secretkey\"\n",
        "encrypted_text = rc4_encrypt(plaintext.encode(), key)\n",
        "decrypted_text = rc4_decrypt(encrypted_text, key)\n",
        "print(\"Original Text:\", plaintext)\n",
        "print(\"Encrypted Text:\", encrypted_text)\n",
        "print(\"Decrypted Text:\", decrypted_text.decode())\n",
        "\n",
        "# Example usage for image encryption and decryption:\n",
        "from PIL import Image\n",
        "import io\n",
        "\n",
        "# Load image\n",
        "image_path = \"/content/Lena.png\"\n",
        "with open(image_path, \"rb\") as f:\n",
        "    image_data = f.read()\n",
        "\n",
        "# Encryption\n",
        "encrypted_image_data = rc4_encrypt(image_data, b\"secretkey\")\n",
        "\n",
        "# Save encrypted image\n",
        "with open(\"encrypted_image.png\", \"wb\") as f:\n",
        "    f.write(encrypted_image_data)\n",
        "\n",
        "# Decryption\n",
        "decrypted_image_data = rc4_decrypt(encrypted_image_data, b\"secretkey\")\n",
        "\n",
        "# Save decrypted image\n",
        "with open(\"decrypted_image.png\", \"wb\") as f:\n",
        "    f.write(decrypted_image_data)\n",
        "\n",
        "# Display decrypted image\n",
        "image = Image.open(io.BytesIO(decrypted_image_data))\n",
        "image.show()\n"
      ]
    }
  ]
}